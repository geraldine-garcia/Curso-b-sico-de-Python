{
 "cells": [
  {
   "cell_type": "markdown",
   "metadata": {},
   "source": [
    "# 📌 **Inicio de la Tercera Sesión**  \n",
    "\n",
    "¡Bienvenidos a la tercera sesión de nuestro curso de Python! 🎉  \n",
    "\n",
    "Hasta ahora, hemos aprendido conceptos fundamentales que nos han permitido dar nuestros primeros pasos en la programación. En esta sesión, pondremos en práctica lo aprendido a través de ejercicios y ejemplos que fortalecerán nuestras habilidades.  \n",
    "\n",
    "Espero que el curso les esté gustando y que cada nuevo concepto les ayude a desarrollar una mejor comprensión del lenguaje. ¡Manos a la obra! \n",
    "💻  \n"
   ]
  },
  {
   "cell_type": "markdown",
   "metadata": {},
   "source": [
    "## 🔹 Funciones en Phyton"
   ]
  },
  {
   "cell_type": "markdown",
   "metadata": {},
   "source": [
    "🔹**DEFINICIÓN DE FUNCIONES**\n",
    "\n",
    "\"Empaquetan\" código que puede reusarse: Tiene entradas y salidas.\n"
   ]
  },
  {
   "cell_type": "markdown",
   "metadata": {},
   "source": [
    "🔹**PRIMEROS PASOS**\n",
    "\n",
    "Función sin argumentos de entrada ni salida.\n",
    "\n",
    "\n",
    "📌 **Ejemplos**"
   ]
  },
  {
   "cell_type": "code",
   "execution_count": 54,
   "metadata": {},
   "outputs": [],
   "source": [
    "# Definimos una funcion \"def\"\n",
    "\n",
    "def saludar():\n",
    "    # El código que ejecuta la función va anidado con identación.\n",
    "    print(\"Hola\")\n"
   ]
  },
  {
   "cell_type": "code",
   "execution_count": 55,
   "metadata": {},
   "outputs": [
    {
     "name": "stdout",
     "output_type": "stream",
     "text": [
      "Hola\n"
     ]
    }
   ],
   "source": [
    "# Invocamos la función anterior\n",
    "saludar()"
   ]
  },
  {
   "cell_type": "markdown",
   "metadata": {},
   "source": [
    "Función con argumentos de entrada y salida\n",
    "\n",
    "\n",
    "📌 **Ejemplos**"
   ]
  },
  {
   "cell_type": "code",
   "execution_count": 56,
   "metadata": {},
   "outputs": [
    {
     "name": "stdout",
     "output_type": "stream",
     "text": [
      "90\n"
     ]
    }
   ],
   "source": [
    "# Código a \"empaquetar\"\n",
    "\n",
    "numero_1 = 100\n",
    "numero_2 = -10\n",
    "print(numero_1 + numero_2)"
   ]
  },
  {
   "cell_type": "code",
   "execution_count": 57,
   "metadata": {},
   "outputs": [],
   "source": [
    "# Definimos una función que suma dos números. \n",
    "\n",
    "def sumar_numeros(numero_1, numero_2):\n",
    "    return numero_1 + numero_2\n"
   ]
  },
  {
   "cell_type": "code",
   "execution_count": 58,
   "metadata": {},
   "outputs": [
    {
     "data": {
      "text/plain": [
       "90"
      ]
     },
     "execution_count": 58,
     "metadata": {},
     "output_type": "execute_result"
    }
   ],
   "source": [
    "sumar_numeros(-10, 100)"
   ]
  },
  {
   "cell_type": "markdown",
   "metadata": {},
   "source": [
    "📌 **Nota importante:** El orden de los argumentos de entrada si importan en las restas. "
   ]
  },
  {
   "cell_type": "code",
   "execution_count": 59,
   "metadata": {},
   "outputs": [
    {
     "data": {
      "text/plain": [
       "90"
      ]
     },
     "execution_count": 59,
     "metadata": {},
     "output_type": "execute_result"
    }
   ],
   "source": [
    "def restar_numeros(numero_1, numero_2):\n",
    "    return numero_1 + numero_2\n",
    "\n",
    "restar_numeros(-10, 100)"
   ]
  },
  {
   "cell_type": "code",
   "execution_count": 60,
   "metadata": {},
   "outputs": [
    {
     "name": "stdout",
     "output_type": "stream",
     "text": [
      "90\n",
      "90\n"
     ]
    }
   ],
   "source": [
    "# Es posible especificar el nombre de los argumentos.\n",
    "# De entrada de la función para evitar inconvenientes.\n",
    "print(restar_numeros(numero_1=100, numero_2=-10))\n",
    "print(restar_numeros(numero_2=-10, numero_1=100))"
   ]
  },
  {
   "cell_type": "code",
   "execution_count": 61,
   "metadata": {},
   "outputs": [],
   "source": [
    "def producto_numeros(numero_1: float, numero_2: float) -> float:\n",
    "    resultado = numero_1 * numero_2\n",
    "    return resultado"
   ]
  },
  {
   "cell_type": "code",
   "execution_count": 62,
   "metadata": {},
   "outputs": [
    {
     "data": {
      "text/plain": [
       "7.5"
      ]
     },
     "execution_count": 62,
     "metadata": {},
     "output_type": "execute_result"
    }
   ],
   "source": [
    "producto_numeros(2.5, 3)"
   ]
  },
  {
   "cell_type": "code",
   "execution_count": 63,
   "metadata": {},
   "outputs": [],
   "source": [
    "# Un ejemplo más complejo\n",
    "\n",
    "frase = \"Este curso te servirá mucho\"\n",
    "tokens = frase.split(\" \")\n",
    "\n",
    "tokens_analizados = [(token, \"numeric\") if token.isnumeric() else (token, \"text\") for token in tokens]"
   ]
  },
  {
   "cell_type": "code",
   "execution_count": 64,
   "metadata": {},
   "outputs": [],
   "source": [
    "# La siguiente función genera tokens apartir de un texto. \n",
    "\n",
    "def tokenizar_texto(texto: str, sep:str) -> list:\n",
    "    return texto.split(sep=separador)"
   ]
  },
  {
   "cell_type": "code",
   "execution_count": 65,
   "metadata": {},
   "outputs": [
    {
     "name": "stdout",
     "output_type": "stream",
     "text": [
      "['El', 'curso', 'básico', 'de', 'Python', 'está', 'a', 'punto', 'de', 'terminar']\n"
     ]
    }
   ],
   "source": [
    "texto = \"El curso básico de Python está a punto de terminar\"  # Corrección en \"apunto\" -> \"a punto\"\n",
    "tokens = texto.split(\" \")  # Se usa split() para tokenizar el texto\n",
    "print(tokens)"
   ]
  },
  {
   "cell_type": "markdown",
   "metadata": {},
   "source": [
    "🔹**FUNCIONES ANÓNIMAS**\n",
    "\n",
    "\n",
    "📌 **Ejemplos**"
   ]
  },
  {
   "cell_type": "markdown",
   "metadata": {},
   "source": [
    "Único argumento"
   ]
  },
  {
   "cell_type": "markdown",
   "metadata": {},
   "source": [
    "Consideremos la siguiente función:\n",
    "\n",
    "En Python, podemos definir una función normal utilizando `def`:\n",
    "\n",
    "```python\n",
    "def elevar_al_cuadrado(numero):\n",
    "    return numero ** 2"
   ]
  },
  {
   "cell_type": "code",
   "execution_count": 109,
   "metadata": {},
   "outputs": [],
   "source": [
    "elevar_al_cuadrado = lambda numero: numero ** 2 "
   ]
  },
  {
   "cell_type": "code",
   "execution_count": 67,
   "metadata": {},
   "outputs": [
    {
     "data": {
      "text/plain": [
       "9"
      ]
     },
     "execution_count": 67,
     "metadata": {},
     "output_type": "execute_result"
    }
   ],
   "source": [
    "elevar_al_cuadrado(3)"
   ]
  },
  {
   "cell_type": "markdown",
   "metadata": {},
   "source": [
    "Múltiples argumentos"
   ]
  },
  {
   "cell_type": "markdown",
   "metadata": {},
   "source": [
    "* Considere la siguiente función:\n",
    "* def dividir_numeros(numero_1, numero_2)\n",
    "* Return numero_1 / numero_2\n",
    "\n",
    "* La siguiente es una función lamda que hace lo mismo "
   ]
  },
  {
   "cell_type": "code",
   "execution_count": 68,
   "metadata": {},
   "outputs": [
    {
     "data": {
      "text/plain": [
       "5.0"
      ]
     },
     "execution_count": 68,
     "metadata": {},
     "output_type": "execute_result"
    }
   ],
   "source": [
    "dividir_numeros = lambda numero_1, numero_2: numero_1 / numero_2\n",
    "\n",
    "dividir_numeros(10, 2)"
   ]
  },
  {
   "cell_type": "markdown",
   "metadata": {},
   "source": [
    "## 🔹 SCOPE\n",
    "\n",
    "\n",
    "📌 **Ejemplos**"
   ]
  },
  {
   "cell_type": "markdown",
   "metadata": {},
   "source": [
    "\n",
    "## 📌 Alcance (*Scope*) de las Variables en Python\n",
    "\n",
    "En Python, las variables pueden tener un **alcance local o global** dependiendo de dónde se definan.  \n",
    "\n",
    "- **Variables locales**: Se crean dentro de una función y solo existen dentro de ella. No son accesibles fuera de la función.  \n",
    "- **Variables globales**: Se definen fuera de cualquier función y pueden ser accedidas desde cualquier parte del código.\n",
    "\n",
    "### 🔹 Ejemplo de Variable Local  \n",
    "Cuando una variable es declarada dentro de una función, su *scope* (alcance) es **local**, lo que significa que **no puede ser utilizada fuera de la función**.  \n"
   ]
  },
  {
   "cell_type": "code",
   "execution_count": 110,
   "metadata": {},
   "outputs": [],
   "source": [
    "# Intentamos borrar una variable \"resultado\" previamente creada en el entorno global (si existiera)\n",
    "del resultado  \n",
    "\n",
    "# Definimos una función que calcula el producto de dos números\n",
    "def producto_numeros(numero_1: float, numero_2: float) -> float:\n",
    "    resultado = numero_1 * numero_2  # Esta variable \"resultado\" es local a la función\n",
    "    return resultado  \n"
   ]
  },
  {
   "cell_type": "code",
   "execution_count": 111,
   "metadata": {},
   "outputs": [
    {
     "name": "stdout",
     "output_type": "stream",
     "text": [
      "7.5\n"
     ]
    },
    {
     "ename": "NameError",
     "evalue": "name 'resultado' is not defined",
     "output_type": "error",
     "traceback": [
      "\u001b[1;31m---------------------------------------------------------------------------\u001b[0m",
      "\u001b[1;31mNameError\u001b[0m                                 Traceback (most recent call last)",
      "Cell \u001b[1;32mIn[111], line 3\u001b[0m\n\u001b[0;32m      1\u001b[0m \u001b[38;5;66;03m# la variable \"resultado\" no es visible desde afuera de la función\u001b[39;00m\n\u001b[0;32m      2\u001b[0m \u001b[38;5;28mprint\u001b[39m(producto_numeros(\u001b[38;5;241m2.5\u001b[39m, \u001b[38;5;241m3\u001b[39m))\n\u001b[1;32m----> 3\u001b[0m \u001b[38;5;28mprint\u001b[39m(\u001b[43mresultado\u001b[49m)\n",
      "\u001b[1;31mNameError\u001b[0m: name 'resultado' is not defined"
     ]
    }
   ],
   "source": [
    "# la variable \"resultado\" no es visible desde afuera de la función\n",
    "print(producto_numeros(2.5, 3))\n",
    "print(resultado)"
   ]
  },
  {
   "cell_type": "code",
   "execution_count": 112,
   "metadata": {},
   "outputs": [
    {
     "data": {
      "text/plain": [
       "11"
      ]
     },
     "execution_count": 112,
     "metadata": {},
     "output_type": "execute_result"
    }
   ],
   "source": [
    "# las variables creadas por fuera de una función SI son visibles\n",
    "# desde adentro de la función (su scope)\n",
    "\n",
    "incremento = 1\n",
    "\n",
    "def incrementar_numero(numero: int) -> int:\n",
    "    return numero + incremento\n",
    "\n",
    "incrementar_numero(10)"
   ]
  },
  {
   "cell_type": "code",
   "execution_count": 113,
   "metadata": {},
   "outputs": [
    {
     "data": {
      "text/plain": [
       "62.832"
      ]
     },
     "execution_count": 113,
     "metadata": {},
     "output_type": "execute_result"
    }
   ],
   "source": [
    "# una práctica común cuando se quiere hacer uso del comportamiento\n",
    "# anterior, es definir la variable en MAYÚSCULAS para indicar que\n",
    "# es una constante\n",
    "\n",
    "PI = 3.1416\n",
    "\n",
    "def perimetro_circulo(radio: float) -> float:\n",
    "    return 2*PI*radio\n",
    "\n",
    "perimetro_circulo(10)"
   ]
  },
  {
   "cell_type": "markdown",
   "metadata": {},
   "source": [
    "## 🔹 DOCTRINGS\n",
    "\n",
    "📌 **Ejemplos**"
   ]
  },
  {
   "cell_type": "code",
   "execution_count": 100,
   "metadata": {},
   "outputs": [
    {
     "name": "stdout",
     "output_type": "stream",
     "text": [
      "Este curso corto\n",
      "te ayudará  \\ mucho\n",
      "\n",
      "Hazlo con entusiasmo\n",
      "\n"
     ]
    },
    {
     "name": "stderr",
     "output_type": "stream",
     "text": [
      "<>:4: SyntaxWarning: invalid escape sequence '\\ '\n",
      "<>:4: SyntaxWarning: invalid escape sequence '\\ '\n",
      "C:\\Users\\ASUS\\AppData\\Local\\Temp\\ipykernel_6772\\4242650457.py:4: SyntaxWarning: invalid escape sequence '\\ '\n",
      "  texto_2 = \"te ayudará  \\ mucho\"\n"
     ]
    }
   ],
   "source": [
    "texto_1 = \"Este curso corto\"\n",
    "print(texto_1)\n",
    "\n",
    "texto_2 = \"te ayudará  \\ mucho\"\n",
    "print(texto_2)\n",
    "\n",
    "texto_3 = \"\"\"\n",
    "Hazlo con entusiasmo\n",
    "\"\"\"\n",
    "print(texto_3)"
   ]
  },
  {
   "cell_type": "markdown",
   "metadata": {},
   "source": [
    "Definición:\n",
    "\n",
    "Los **docstrings** son cadenas de texto utilizadas para **documentar** el propósito y el comportamiento de una función, clase o módulo en Python.  \n",
    "\n",
    "### 🔹 Características de los Docstrings:\n",
    "- Se escriben entre **triple comillas dobles** (\"\"\" \"\"\").\n",
    "- Se colocan **justo debajo de la definición de una función**.\n",
    "- Sirven como **documentación oficial**, accesible con \"help(nombre_función)\".\n",
    "- Se recomienda seguir un formato estándar, como el **formato de Google**.\n",
    "\n",
    "\n",
    "📌 **Ejemplos**\n",
    "\n",
    "```python\n",
    "def suma(a: float, b: float) -> float:\n",
    "    \"\"\"\n",
    "    Suma dos números y devuelve el resultado.\n",
    "\n",
    "    Args:\n",
    "        a (float): Primer número.\n",
    "        b (float): Segundo número.\n",
    "\n",
    "    Returns:\n",
    "        float: Resultado de la suma.\n",
    "    \n",
    "    Example:\n",
    "        >>> suma(3, 5)\n",
    "        8\n",
    "    \"\"\"\n",
    "    return a + b\n",
    "\n",
    "# Podemos ver la documentación de la función con:\n",
    "help(suma)\n"
   ]
  },
  {
   "cell_type": "code",
   "execution_count": 78,
   "metadata": {},
   "outputs": [
    {
     "name": "stdout",
     "output_type": "stream",
     "text": [
      "\n",
      "Genera una lista de tokens a partir de un texto y un separador.\n",
      "\n",
      "Args:\n",
      "    texto: str, texto a tokenizar.\n",
      "    separador: str, separador de tokens.\n",
      "\n",
      "Returns:\n",
      "    list[str], lista de tokens.\n",
      "\n"
     ]
    }
   ],
   "source": [
    "def tokenizar_texto(texto: str, separador: str) -> list[str]:\n",
    "    \"\"\"\n",
    "    Genera una lista de tokens a partir de un texto y un separador.\n",
    "    \n",
    "    Args:\n",
    "        texto: str, texto a tokenizar.\n",
    "        separador: str, separador de tokens.\n",
    "    \n",
    "    Returns:\n",
    "        list[str], lista de tokens.\n",
    "    \"\"\"\n",
    "    return texto.split(sep=separador)\n",
    "\n",
    "print(tokenizar_texto.__doc__)"
   ]
  },
  {
   "cell_type": "markdown",
   "metadata": {},
   "source": [
    "Verificación de tipos de Datos en una lista de Tokens:\n",
    "\n",
    "En Python, podemos analizar los elementos de una lista para determinar si son **números** o **textos**.  \n",
    "\n",
    "Para ello, podemos usar una función que evalúe cada elemento y verifique si es un número o una cadena de texto.\n",
    "\n",
    "\n",
    "\n",
    "📌 **Ejemplo**"
   ]
  },
  {
   "cell_type": "code",
   "execution_count": 79,
   "metadata": {},
   "outputs": [],
   "source": [
    "def analizar_tokens(tokens: list[str]) -> list[tuple[str, str]]:\n",
    "    return [(token, \"numeric\") if token.isnumeric() else (token, \"text\") for token in tokens]"
   ]
  },
  {
   "cell_type": "code",
   "execution_count": null,
   "metadata": {},
   "outputs": [],
   "source": []
  },
  {
   "cell_type": "markdown",
   "metadata": {},
   "source": [
    "## 🔹 Módulos/Librerías e Importaciones"
   ]
  },
  {
   "cell_type": "markdown",
   "metadata": {},
   "source": [
    "Importación \"total\" de un módulo/librería"
   ]
  },
  {
   "cell_type": "markdown",
   "metadata": {},
   "source": [
    "Importación Total de un Módulo en Python:\n",
    "\n",
    "En Python, podemos importar módulos o librerías usando la sintaxis:\n",
    "\n",
    "```python\n",
    "import <nombre_modulo>\n"
   ]
  },
  {
   "cell_type": "code",
   "execution_count": 102,
   "metadata": {},
   "outputs": [],
   "source": [
    "import math       # Operaciones matemáticas avanzadas\n",
    "import random     # Generación de números aleatorios\n",
    "import datetime   # Manejo de fechas y tiempos\n",
    "import time       # Funciones relacionadas con el tiempo\n",
    "import os         # Interacción con el sistema operativo\n",
    "import sys        # Manipulación del sistema y rutas de ejecución\n"
   ]
  },
  {
   "cell_type": "code",
   "execution_count": 103,
   "metadata": {},
   "outputs": [
    {
     "name": "stdout",
     "output_type": "stream",
     "text": [
      "5.0\n"
     ]
    }
   ],
   "source": [
    "from math import sqrt  # Solo importamos la función sqrt()\n",
    "resultado = sqrt(25)   # Usamos directamente la función sin prefijo\n",
    "print(resultado)  # Salida: 5.0\n"
   ]
  },
  {
   "cell_type": "code",
   "execution_count": 81,
   "metadata": {},
   "outputs": [
    {
     "data": {
      "text/plain": [
       "10.0"
      ]
     },
     "execution_count": 81,
     "metadata": {},
     "output_type": "execute_result"
    }
   ],
   "source": [
    "# para usar alguna funcionalidad de un módulo se usa\n",
    "# <nombre_modulo>.<funcionalidad> luego de haberlo importado\n",
    "\n",
    "import math\n",
    "\n",
    "math.sqrt(100)"
   ]
  },
  {
   "cell_type": "markdown",
   "metadata": {},
   "source": [
    "🔹**Importación selectiva**\n"
   ]
  },
  {
   "cell_type": "code",
   "execution_count": 92,
   "metadata": {},
   "outputs": [
    {
     "name": "stdout",
     "output_type": "stream",
     "text": [
      "20.0\n",
      "2.0\n"
     ]
    }
   ],
   "source": [
    "# receta:\n",
    "# from <nombre_modulo> import <nombre_funcion_clase>, <nombre_funcion_clase>, ...\n",
    "\n",
    "from math import sqrt, log10\n",
    "\n",
    "print(sqrt(400))\n",
    "print(log10(100))"
   ]
  },
  {
   "cell_type": "markdown",
   "metadata": {},
   "source": [
    "🔹**Importación usando un alias**"
   ]
  },
  {
   "cell_type": "code",
   "execution_count": 93,
   "metadata": {},
   "outputs": [
    {
     "data": {
      "text/plain": [
       "120"
      ]
     },
     "execution_count": 93,
     "metadata": {},
     "output_type": "execute_result"
    }
   ],
   "source": [
    "# receta:\n",
    "# import <modulo> as <alias>\n",
    "\n",
    "import math as m\n",
    "\n",
    "m.factorial(5)"
   ]
  },
  {
   "cell_type": "code",
   "execution_count": 94,
   "metadata": {},
   "outputs": [
    {
     "data": {
      "text/plain": [
       "120"
      ]
     },
     "execution_count": 94,
     "metadata": {},
     "output_type": "execute_result"
    }
   ],
   "source": [
    "# receta:\n",
    "# from <nombre_modulo> import <nombre_funcion_clase> as <alias>\n",
    "\n",
    "from math import factorial as fct\n",
    "\n",
    "fct(5)"
   ]
  },
  {
   "cell_type": "markdown",
   "metadata": {},
   "source": [
    "🔹**Importación sin alias**"
   ]
  },
  {
   "cell_type": "markdown",
   "metadata": {},
   "source": [
    "\n",
    "\n",
    "Cuando importamos un módulo en Python, podemos hacerlo sin alias. \n",
    "Esto significa que usamos el nombre completo del módulo cada vez que llamamos una función o clase dentro de él.\n"
   ]
  },
  {
   "cell_type": "code",
   "execution_count": 105,
   "metadata": {},
   "outputs": [
    {
     "name": "stdout",
     "output_type": "stream",
     "text": [
      "La raíz cuadrada de 25 es: 5.0\n"
     ]
    }
   ],
   "source": [
    "# Importamos el módulo math sin alias\n",
    "import math\n",
    "\n",
    "# Usamos la función sqrt() de math\n",
    "raiz = math.sqrt(25)\n",
    "\n",
    "# Mostramos el resultado\n",
    "print(\"La raíz cuadrada de 25 es:\", raiz)\n",
    "\n"
   ]
  },
  {
   "cell_type": "markdown",
   "metadata": {},
   "source": [
    "# 🎉 ¡Felicidades por Completar el Curso de Python! 🚀  \n",
    "\n",
    "Has llegado al final de este curso básico de **Python**, y eso es un gran logro. A lo largo de este recorrido, exploramos desde los fundamentos del lenguaje hasta conceptos clave como estructuras de datos, funciones, módulos y mucho más.  \n",
    "\n",
    "💡 **Lo que has logrado hasta ahora:**  \n",
    "✅ Comprender la sintaxis y lógica de Python.  \n",
    "✅ Manipular variables, estructuras de datos y funciones.  \n",
    "✅ Aplicar estructuras de control y ciclos en la programación.  \n",
    "✅ Organizar y reutilizar código con funciones y módulos.  \n",
    " \n",
    "\n",
    "👏 **¡Gracias por tu esfuerzo y dedicación!** Ahora tienes las bases para seguir aprendiendo y desarrollando increíbles proyectos con Python.  \n",
    "\n",
    "💻🔥 ¡Sigue practicando, experimentando y creando! 🚀🐍  \n"
   ]
  }
 ],
 "metadata": {
  "kernelspec": {
   "display_name": "Python 3",
   "language": "python",
   "name": "python3"
  },
  "language_info": {
   "codemirror_mode": {
    "name": "ipython",
    "version": 3
   },
   "file_extension": ".py",
   "mimetype": "text/x-python",
   "name": "python",
   "nbconvert_exporter": "python",
   "pygments_lexer": "ipython3",
   "version": "3.13.2"
  }
 },
 "nbformat": 4,
 "nbformat_minor": 2
}
