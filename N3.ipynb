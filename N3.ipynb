{
 "cells": [
  {
   "cell_type": "markdown",
   "metadata": {},
   "source": [
    "# 📌 **Inicio de la segunda Sesión**  \n"
   ]
  },
  {
   "cell_type": "markdown",
   "metadata": {},
   "source": [
    "# 🔹Indexación y manipulación de estructuras de datos\n"
   ]
  },
  {
   "cell_type": "markdown",
   "metadata": {},
   "source": [
    "## 🌟 Introducción  \n",
    "\n",
    "Podemos acceder a los datos dentro de las estructuras usando:  \n",
    "\n",
    "✅ **Índices posicionales enteros** 🔢  \n",
    "✅ **Rangos de estos índices** 📏  \n",
    "✅ **Etiquetas (en el caso de los diccionarios)** 🔖  \n",
    "\n",
    "📌 **Nota importante:** La posición inicial es 0.  \n",
    "\n",
    "🔄 Además de acceder a la información, también podemos modificar los datos utilizando estos índices.  \n"
   ]
  },
  {
   "cell_type": "markdown",
   "metadata": {},
   "source": [
    "## 🔹 Acceder a la información"
   ]
  },
  {
   "cell_type": "markdown",
   "metadata": {},
   "source": [
    "🔹**POSICIONES INDIVIDUALES**\n",
    "\n",
    "📌 **Ejemplos**"
   ]
  },
  {
   "cell_type": "code",
   "execution_count": null,
   "metadata": {},
   "outputs": [],
   "source": [
    "# Primero creamos unas estructuras básicas de datos\n",
    "lista_1 = [10, -1, 0, 99.9, -100]\n",
    "tupla_1 = (-5, 9, 8, 0, 1)\n",
    "conjunto_1 = {10, 0, 1, -1, 9}\n",
    "dicc_1 = {'a': 10, 'b': 20, 'c': -30, 0: 'hola'}"
   ]
  },
  {
   "cell_type": "code",
   "execution_count": null,
   "metadata": {},
   "outputs": [
    {
     "name": "stdout",
     "output_type": "stream",
     "text": [
      "10\n",
      "-5\n"
     ]
    }
   ],
   "source": [
    "# Posición inicial de los elementos\n",
    "print(lista_1[0])\n",
    "print(tupla_1[0])\n",
    "# print(conjunto_1[0]) # error"
   ]
  },
  {
   "cell_type": "code",
   "execution_count": null,
   "metadata": {},
   "outputs": [
    {
     "name": "stdout",
     "output_type": "stream",
     "text": [
      "-1\n",
      "9\n"
     ]
    }
   ],
   "source": [
    "# Segunda posición de las estructuras\n",
    "print(lista_1[1])\n",
    "print(tupla_1[1])"
   ]
  },
  {
   "cell_type": "code",
   "execution_count": null,
   "metadata": {},
   "outputs": [
    {
     "ename": "IndexError",
     "evalue": "list index out of range",
     "output_type": "error",
     "traceback": [
      "\u001b[1;31m---------------------------------------------------------------------------\u001b[0m",
      "\u001b[1;31mIndexError\u001b[0m                                Traceback (most recent call last)",
      "Cell \u001b[1;32mIn[6], line 2\u001b[0m\n\u001b[0;32m      1\u001b[0m \u001b[38;5;66;03m# Posición no existente de las estructuras\u001b[39;00m\n\u001b[1;32m----> 2\u001b[0m \u001b[38;5;28mprint\u001b[39m(\u001b[43mlista_1\u001b[49m\u001b[43m[\u001b[49m\u001b[38;5;241;43m10\u001b[39;49m\u001b[43m]\u001b[49m)\n\u001b[0;32m      3\u001b[0m \u001b[38;5;28mprint\u001b[39m(tupla_1[\u001b[38;5;241m10\u001b[39m])\n",
      "\u001b[1;31mIndexError\u001b[0m: list index out of range"
     ]
    }
   ],
   "source": [
    "# Posición no existente de las estructuras\n",
    "print(lista_1[10])\n",
    "print(tupla_1[10])\n"
   ]
  },
  {
   "cell_type": "code",
   "execution_count": null,
   "metadata": {},
   "outputs": [
    {
     "name": "stdout",
     "output_type": "stream",
     "text": [
      "-100\n",
      "1\n"
     ]
    }
   ],
   "source": [
    "# Última posición de las estructuras\n",
    "print(lista_1[-1])\n",
    "print(tupla_1[-1])"
   ]
  },
  {
   "cell_type": "code",
   "execution_count": null,
   "metadata": {},
   "outputs": [
    {
     "name": "stdout",
     "output_type": "stream",
     "text": [
      "99.9\n",
      "0\n"
     ]
    }
   ],
   "source": [
    "# Penúltima posición de las estructuras\n",
    "print(lista_1[-2])\n",
    "print(tupla_1[-2])"
   ]
  },
  {
   "cell_type": "code",
   "execution_count": null,
   "metadata": {},
   "outputs": [
    {
     "name": "stdout",
     "output_type": "stream",
     "text": [
      "10\n",
      "20\n",
      "-30\n",
      "hola\n"
     ]
    }
   ],
   "source": [
    "# Accediendo a un valor del diccionario usando\n",
    "# las claves\n",
    "print(dicc_1['a'])\n",
    "print(dicc_1['b'])\n",
    "print(dicc_1['c'])\n",
    "print(dicc_1[0])"
   ]
  },
  {
   "cell_type": "markdown",
   "metadata": {},
   "source": [
    "🔹**RANGOS DE POSICIONES**\n",
    "\n",
    "📌 **Ejemplos**"
   ]
  },
  {
   "cell_type": "code",
   "execution_count": null,
   "metadata": {},
   "outputs": [
    {
     "data": {
      "text/plain": [
       "[10, -1, 0, 99.9, -100]"
      ]
     },
     "execution_count": 10,
     "metadata": {},
     "output_type": "execute_result"
    }
   ],
   "source": [
    "lista_1"
   ]
  },
  {
   "cell_type": "code",
   "execution_count": null,
   "metadata": {},
   "outputs": [
    {
     "name": "stdout",
     "output_type": "stream",
     "text": [
      "[10, -1, 0, 99.9, -100]\n",
      "(-5, 9, 8, 0, 1)\n"
     ]
    }
   ],
   "source": [
    "# Acceder a la lista o tupla completa\n",
    "print(lista_1[:])\n",
    "print(tupla_1[:])"
   ]
  },
  {
   "cell_type": "code",
   "execution_count": null,
   "metadata": {},
   "outputs": [
    {
     "name": "stdout",
     "output_type": "stream",
     "text": [
      "[10, -1, 0]\n",
      "[10, -1, 0]\n",
      "(-5, 9, 8)\n",
      "(-5, 9, 8)\n"
     ]
    }
   ],
   "source": [
    "# Acceeder a los primeros n elementos\n",
    "# [posición inicial: posición final pero no se incluye]\n",
    "print(lista_1[:3])\n",
    "print(lista_1[0:3])\n",
    "print(tupla_1[0:3])\n",
    "print(tupla_1[:3])"
   ]
  },
  {
   "cell_type": "code",
   "execution_count": null,
   "metadata": {},
   "outputs": [
    {
     "name": "stdout",
     "output_type": "stream",
     "text": [
      "[0, 99.9, -100]\n",
      "(8, 0, 1)\n"
     ]
    }
   ],
   "source": [
    "# Acceder a los últimos n elementos\n",
    "print(lista_1[-3:])\n",
    "print(tupla_1[-3:])"
   ]
  },
  {
   "cell_type": "code",
   "execution_count": null,
   "metadata": {},
   "outputs": [
    {
     "data": {
      "text/plain": [
       "[10, -1, 0, 99.9, -100]"
      ]
     },
     "execution_count": 14,
     "metadata": {},
     "output_type": "execute_result"
    }
   ],
   "source": [
    "lista_1"
   ]
  },
  {
   "cell_type": "code",
   "execution_count": null,
   "metadata": {},
   "outputs": [
    {
     "name": "stdout",
     "output_type": "stream",
     "text": [
      "[10, -1, 0, 99.9, -100]\n",
      "[10, -1, 0, 99.9, -100]\n",
      "[10, 0, -100]\n",
      "[-1, 99.9]\n",
      "[99.9, 0, -1, 10]\n",
      "[0]\n"
     ]
    }
   ],
   "source": [
    "# Acceder a los elementos usando un rango\n",
    "# con pasos\n",
    "# [posicion inicial : posición final : incremento/paso]\n",
    "print(lista_1[::])\n",
    "print(lista_1[0:5:1])\n",
    "print(lista_1[::2]) # todas las posiciones pares\n",
    "print(lista_1[1::2]) # todas las posiciones impares\n",
    "print(lista_1[3::-1])\n",
    "print(lista_1[2:3:2])"
   ]
  },
  {
   "cell_type": "code",
   "execution_count": null,
   "metadata": {},
   "outputs": [
    {
     "name": "stdout",
     "output_type": "stream",
     "text": [
      "[-100, 99.9, 0, -1, 10]\n",
      "(1, 0, 8, 9, -5)\n"
     ]
    }
   ],
   "source": [
    "# Retorna lista/tupla en orden inverso\n",
    "print(lista_1[::-1])\n",
    "print(tupla_1[::-1])"
   ]
  },
  {
   "cell_type": "code",
   "execution_count": null,
   "metadata": {},
   "outputs": [
    {
     "data": {
      "text/plain": [
       "[-100, 99.9, 0, -1, 10]"
      ]
     },
     "execution_count": 17,
     "metadata": {},
     "output_type": "execute_result"
    }
   ],
   "source": [
    "# Retorna lista/tupla en orden inverso\n",
    "# este método reversa la lista/tupla original in-situ\n",
    "lista_1.reverse()\n",
    "lista_1"
   ]
  },
  {
   "cell_type": "markdown",
   "metadata": {},
   "source": [
    "🔹**MODIFICAR INFORMACIÓN**\n",
    "\n",
    "### Forma individual\n",
    "\n",
    "📌 **Ejemplos**"
   ]
  },
  {
   "cell_type": "code",
   "execution_count": null,
   "metadata": {},
   "outputs": [
    {
     "ename": "TypeError",
     "evalue": "'tuple' object does not support item assignment",
     "output_type": "error",
     "traceback": [
      "\u001b[1;31m---------------------------------------------------------------------------\u001b[0m",
      "\u001b[1;31mTypeError\u001b[0m                                 Traceback (most recent call last)",
      "Cell \u001b[1;32mIn[18], line 3\u001b[0m\n\u001b[0;32m      1\u001b[0m \u001b[38;5;66;03m# tuplas son inmutables\u001b[39;00m\n\u001b[0;32m      2\u001b[0m \u001b[38;5;66;03m# (no se pueden modificar una vez están hechas)\u001b[39;00m\n\u001b[1;32m----> 3\u001b[0m \u001b[43mtupla_1\u001b[49m\u001b[43m[\u001b[49m\u001b[38;5;241;43m0\u001b[39;49m\u001b[43m]\u001b[49m \u001b[38;5;241m=\u001b[39m \u001b[38;5;241m100\u001b[39m\n",
      "\u001b[1;31mTypeError\u001b[0m: 'tuple' object does not support item assignment"
     ]
    }
   ],
   "source": [
    "# tuplas son inmutables\n",
    "# (no se pueden modificar una vez están hechas)\n",
    "tupla_1[0] = 100"
   ]
  },
  {
   "cell_type": "code",
   "execution_count": null,
   "metadata": {},
   "outputs": [
    {
     "data": {
      "text/plain": [
       "[-100, 99.9, 0, -1, 10]"
      ]
     },
     "execution_count": 19,
     "metadata": {},
     "output_type": "execute_result"
    }
   ],
   "source": [
    "lista_1"
   ]
  },
  {
   "cell_type": "code",
   "execution_count": null,
   "metadata": {},
   "outputs": [
    {
     "data": {
      "text/plain": [
       "[100, 99.9, 0, -1, 10]"
      ]
     },
     "execution_count": 20,
     "metadata": {},
     "output_type": "execute_result"
    }
   ],
   "source": [
    "# las listas sin son mutables\n",
    "lista_1[0] = 100\n",
    "lista_1"
   ]
  },
  {
   "cell_type": "code",
   "execution_count": null,
   "metadata": {},
   "outputs": [
    {
     "data": {
      "text/plain": [
       "{'a': 10, 'b': 20, 'c': -30, 0: 'curso de python'}"
      ]
     },
     "execution_count": 22,
     "metadata": {},
     "output_type": "execute_result"
    }
   ],
   "source": [
    "# los diccionarios también, debemos usar las claves\n",
    "# para eso\n",
    "dicc_1[0] = 'curso de python'\n",
    "dicc_1"
   ]
  },
  {
   "cell_type": "markdown",
   "metadata": {},
   "source": [
    "🔹**Mediante rangos se pueden modificar grupos del mismo tamaño**\n",
    "\n",
    "### Forma individual\n",
    "\n",
    "📌 **Ejemplos**"
   ]
  },
  {
   "cell_type": "code",
   "execution_count": null,
   "metadata": {},
   "outputs": [
    {
     "ename": "TypeError",
     "evalue": "must assign iterable to extended slice",
     "output_type": "error",
     "traceback": [
      "\u001b[1;31m---------------------------------------------------------------------------\u001b[0m",
      "\u001b[1;31mTypeError\u001b[0m                                 Traceback (most recent call last)",
      "Cell \u001b[1;32mIn[23], line 1\u001b[0m\n\u001b[1;32m----> 1\u001b[0m \u001b[43mlista_1\u001b[49m\u001b[43m[\u001b[49m\u001b[38;5;241;43m0\u001b[39;49m\u001b[43m:\u001b[49m\u001b[38;5;241;43m1\u001b[39;49m\u001b[43m]\u001b[49m \u001b[38;5;241m=\u001b[39m \u001b[38;5;241m200\u001b[39m \u001b[38;5;66;03m# error\u001b[39;00m\n\u001b[0;32m      2\u001b[0m lista_1\n",
      "\u001b[1;31mTypeError\u001b[0m: must assign iterable to extended slice"
     ]
    }
   ],
   "source": [
    "lista_1[0:1] = 200 # error\n",
    "lista_1"
   ]
  },
  {
   "cell_type": "code",
   "execution_count": null,
   "metadata": {},
   "outputs": [
    {
     "data": {
      "text/plain": [
       "[-100, 200, 0, -1, 10]"
      ]
     },
     "execution_count": 24,
     "metadata": {},
     "output_type": "execute_result"
    }
   ],
   "source": [
    "# mediante rangos se pueden modificar grupos del mismo tamaño\n",
    "# ojo: la última posición no se incluye\n",
    "lista_1[0:2] = [-100, 200]\n",
    "lista_1"
   ]
  },
  {
   "cell_type": "markdown",
   "metadata": {},
   "source": [
    "## 🔹 ESTRUCTURAS DE CONTROL\n",
    "\n"
   ]
  },
  {
   "cell_type": "markdown",
   "metadata": {},
   "source": [
    "Las órdenes en Python se ejecutan secuencialmente  \n",
    "\n",
    "**De arriba hacia abajo**, siguiendo el flujo lógico del código.  \n",
    "\n",
    "\n",
    "Orden 1\n",
    "Orden 2\n",
    "Orden 3\n",
    "Orden 4\n",
    "\n",
    "📌 **Ejemplos**\n"
   ]
  },
  {
   "cell_type": "code",
   "execution_count": null,
   "metadata": {},
   "outputs": [],
   "source": [
    "# ....\n",
    "# ....\n",
    "nota = 4.0\n",
    "\n",
    "if nota > 4:\n",
    "    print(\"Se otorga beca!\") # indentación o anidamiento\n",
    "    \n",
    "# ....\n",
    "# ...."
   ]
  },
  {
   "cell_type": "code",
   "execution_count": null,
   "metadata": {},
   "outputs": [
    {
     "name": "stdout",
     "output_type": "stream",
     "text": [
      "Se otorga beca!\n"
     ]
    }
   ],
   "source": [
    "nota = 4.0\n",
    "sisben = \"si\"\n",
    "\n",
    "if (nota > 4) or (sisben == \"si\"):\n",
    "    print(\"Se otorga beca!\") # indentación o anidamiento"
   ]
  },
  {
   "cell_type": "code",
   "execution_count": null,
   "metadata": {},
   "outputs": [
    {
     "name": "stdout",
     "output_type": "stream",
     "text": [
      "Se otorga beca!\n"
     ]
    }
   ],
   "source": [
    "nota = 4.5\n",
    "sisben = \"si\"\n",
    "\n",
    "if (nota > 4) and (sisben == \"si\"):\n",
    "    print(\"Se otorga beca!\") # indentación o anidamiento"
   ]
  },
  {
   "cell_type": "code",
   "execution_count": null,
   "metadata": {},
   "outputs": [
    {
     "name": "stdout",
     "output_type": "stream",
     "text": [
      "No se otorga beca!\n"
     ]
    }
   ],
   "source": [
    "nota = 3.5\n",
    "sisben = \"no\"\n",
    "\n",
    "if (nota > 4) or (sisben == \"si\"):\n",
    "    print(\"Se otorga beca!\") # indentación o anidamiento\n",
    "else:\n",
    "    print(\"No se otorga beca!\")"
   ]
  },
  {
   "cell_type": "code",
   "execution_count": null,
   "metadata": {},
   "outputs": [
    {
     "name": "stdout",
     "output_type": "stream",
     "text": [
      "Se otorga beca de excelencia académica!\n"
     ]
    }
   ],
   "source": [
    "nota = 4.9\n",
    "sisben = \"si\"\n",
    "monitor = \"no\"\n",
    "\n",
    "# se aconseja lo siguiente:\n",
    "# - las condiciones deben ser mutuamente excluyentes entre si\n",
    "# - las condiciones deben ser exhaustivas si es necesario\n",
    "# - las condiciones deberían organizarse de la más usual a la menos usual\n",
    "# - el \"else\" corresponde al descarte de todas las condiciones anteriores\n",
    "if (nota > 4.5) or (sisben == \"si\"):\n",
    "    print(\"Se otorga beca de excelencia académica!\") # indentación o anidamiento\n",
    "elif (nota > 4) & (sisben == \"si\"):\n",
    "    print(\"Se otorga beca convencional!\")\n",
    "elif (nota > 3.8) & (monitor == \"si\"):\n",
    "    print(\"Se otorga beca de monitorías!\")\n",
    "else:\n",
    "    print(\"No se otorga beca!\")"
   ]
  },
  {
   "cell_type": "markdown",
   "metadata": {},
   "source": [
    "## 🔹 Ciclos (loops, iteraciones o repeticiones)"
   ]
  },
  {
   "cell_type": "markdown",
   "metadata": {},
   "source": [
    "🔹**Ciclo For**"
   ]
  },
  {
   "cell_type": "markdown",
   "metadata": {},
   "source": [
    "El ciclo for en Python es una estructura de control que permite repetir un bloque de código un número determinado de veces, recorriendo secuencialmente los elementos de un iterable (como listas, tuplas, conjuntos o diccionarios).\n",
    "\n",
    "📌 **Ejemplos**\n"
   ]
  },
  {
   "cell_type": "code",
   "execution_count": null,
   "metadata": {},
   "outputs": [
    {
     "name": "stdout",
     "output_type": "stream",
     "text": [
      "3\n",
      "4\n",
      "-1\n",
      "10\n"
     ]
    }
   ],
   "source": [
    "for i in [3, 4, -1, 10]:\n",
    "    print(i)"
   ]
  },
  {
   "cell_type": "code",
   "execution_count": null,
   "metadata": {},
   "outputs": [
    {
     "name": "stdout",
     "output_type": "stream",
     "text": [
      "¡Que buen curso de Python!\n",
      "¡Que buen curso de Python!\n",
      "¡Que buen curso de Python!\n",
      "¡Que buen curso de Python!\n"
     ]
    }
   ],
   "source": [
    "# la longitud del iterable determina la cantidad\n",
    "# de veces que se repite el código anidado (nested)\n",
    "for i in [3, 4, -1, 10]:\n",
    "    print(\"¡Que buen curso de Python!\")"
   ]
  },
  {
   "cell_type": "code",
   "execution_count": null,
   "metadata": {},
   "outputs": [
    {
     "name": "stdout",
     "output_type": "stream",
     "text": [
      "¡Que buen curso de Python!\n",
      "¡Que buen curso de Python!\n",
      "¡Que buen curso de Python!\n",
      "¡Que buen curso de Python!\n"
     ]
    }
   ],
   "source": [
    "# se acostumbra a usar \"_\" cuando no se necesita la\n",
    "# variable iteradora\n",
    "for _ in [3, 4, -1, 10]:\n",
    "    print(\"¡Que buen curso de Python!\")"
   ]
  },
  {
   "cell_type": "code",
   "execution_count": null,
   "metadata": {},
   "outputs": [
    {
     "name": "stdout",
     "output_type": "stream",
     "text": [
      "[0, 1, 2, 3, 4, 5, 6, 7, 8, 9]\n",
      "[0, 1, 2, 3, 4, 5, 6, 7, 8, 9]\n",
      "[0, 2, 4, 6, 8]\n",
      "[1, 3, 5, 7, 9]\n"
     ]
    }
   ],
   "source": [
    "# se acostumbra a usar a usar \"range(0, n)\" para\n",
    "# generar una secuencia de números enteros que es \n",
    "# de utilidad para controlar la cantidad de iteraciones\n",
    "print(list(range(0, 10)))\n",
    "print(list(range(0, 10, 1)))\n",
    "print(list(range(0, 10, 2))) # secuencia de pares\n",
    "print(list(range(1, 10, 2))) # secuencia de impares"
   ]
  },
  {
   "cell_type": "code",
   "execution_count": null,
   "metadata": {},
   "outputs": [
    {
     "name": "stdout",
     "output_type": "stream",
     "text": [
      "Iteración número 0\n",
      "Iteración número 1\n",
      "Iteración número 2\n",
      "Iteración número 3\n",
      "Iteración número 4\n",
      "Iteración número 5\n",
      "Iteración número 6\n",
      "Iteración número 7\n",
      "Iteración número 8\n",
      "Iteración número 9\n"
     ]
    }
   ],
   "source": [
    "# 5 iteraciones\n",
    "for i in range(0, 10):\n",
    "    print(f\"Iteración número {i}\")"
   ]
  },
  {
   "cell_type": "code",
   "execution_count": null,
   "metadata": {},
   "outputs": [
    {
     "name": "stdout",
     "output_type": "stream",
     "text": [
      "Valor inicial: 0\n",
      "Valor actual: 1\n",
      "Valor actual: 2\n",
      "Valor actual: 3\n",
      "Valor actual: 4\n",
      "Valor actual: 5\n",
      "Valor actual: 6\n",
      "Valor actual: 7\n",
      "Valor actual: 8\n",
      "Valor actual: 9\n",
      "Valor actual: 10\n"
     ]
    },
    {
     "data": {
      "text/plain": [
       "10"
      ]
     },
     "execution_count": 40,
     "metadata": {},
     "output_type": "execute_result"
    }
   ],
   "source": [
    "# 10 iteraciones\n",
    "valor_inicial = 0\n",
    "print(f\"Valor inicial: {valor_inicial}\")\n",
    "for i in range(0, 10):\n",
    "    valor_inicial = valor_inicial + 1 # valor_inicial += 1\n",
    "    print(f\"Valor actual: {valor_inicial}\")\n",
    "valor_inicial"
   ]
  },
  {
   "cell_type": "code",
   "execution_count": null,
   "metadata": {},
   "outputs": [
    {
     "name": "stdout",
     "output_type": "stream",
     "text": [
      "El nombre es leandro\n",
      "El nombre es martin\n",
      "El nombre es valeria\n"
     ]
    }
   ],
   "source": [
    "# iteramos sobre una lista\n",
    "name_list = [\"leandro\", \"martin\", \"valeria\"]\n",
    "for name in name_list:\n",
    "    print(f\"El nombre es {name}\")\n",
    "    "
   ]
  },
  {
   "cell_type": "code",
   "execution_count": null,
   "metadata": {},
   "outputs": [
    {
     "name": "stdout",
     "output_type": "stream",
     "text": [
      "El nombre leandro tiene 7 letras\n",
      "El nombre martin tiene 6 letras\n",
      "El nombre valeria tiene 7 letras\n"
     ]
    }
   ],
   "source": [
    "# iteramos sobre una tupla\n",
    "name_tuple = (\"leandro\", \"martin\", \"valeria\")\n",
    "for name in name_tuple:\n",
    "    # esta variable dentro del ciclo se reescribe\n",
    "    # en cada iteración\n",
    "    longitud_nombre = len(name)\n",
    "    print(f\"El nombre {name} tiene {longitud_nombre} letras\")"
   ]
  },
  {
   "cell_type": "code",
   "execution_count": null,
   "metadata": {},
   "outputs": [],
   "source": [
    "dicc_2 = {\n",
    "    \"nombre\": \"martin\",\n",
    "    \"apellido\": \"aguilar\",\n",
    "    \"edad\": 20,\n",
    "    \"programa\": \"derecho\",\n",
    "    \"año\": 2023\n",
    "}"
   ]
  },
  {
   "cell_type": "code",
   "execution_count": null,
   "metadata": {},
   "outputs": [
    {
     "data": {
      "text/plain": [
       "dict_keys(['nombre', 'apellido', 'edad', 'programa', 'año'])"
      ]
     },
     "execution_count": 44,
     "metadata": {},
     "output_type": "execute_result"
    }
   ],
   "source": [
    "dicc_2.keys()"
   ]
  },
  {
   "cell_type": "code",
   "execution_count": null,
   "metadata": {},
   "outputs": [
    {
     "name": "stdout",
     "output_type": "stream",
     "text": [
      "Una llave del diccionario es: nombre\n",
      "Una llave del diccionario es: apellido\n",
      "Una llave del diccionario es: edad\n",
      "Una llave del diccionario es: programa\n",
      "Una llave del diccionario es: año\n"
     ]
    }
   ],
   "source": [
    "dicc_2 = {\n",
    "    \"nombre\": \"martin\",\n",
    "    \"apellido\": \"aguilar\",\n",
    "    \"edad\": 20,\n",
    "    \"programa\": \"derecho\",\n",
    "    \"año\": 2023\n",
    "}\n",
    "\n",
    "# iteramos sobre las llaves del diccionario\n",
    "for key in dicc_2.keys():\n",
    "    print(f\"Una llave del diccionario es: {key}\")"
   ]
  },
  {
   "cell_type": "code",
   "execution_count": null,
   "metadata": {},
   "outputs": [
    {
     "name": "stdout",
     "output_type": "stream",
     "text": [
      "La llave 'nombre' contiene el valor 'martin'\n",
      "La llave 'apellido' contiene el valor 'aguilar'\n",
      "La llave 'edad' contiene el valor '20'\n",
      "La llave 'programa' contiene el valor 'derecho'\n",
      "La llave 'año' contiene el valor '2023'\n"
     ]
    }
   ],
   "source": [
    "dicc_2 = {\n",
    "    \"nombre\": \"martin\",\n",
    "    \"apellido\": \"aguilar\",\n",
    "    \"edad\": 20,\n",
    "    \"programa\": \"derecho\",\n",
    "    \"año\": 2023\n",
    "}\n",
    "\n",
    "# iteramos sobre las llaves del diccionario\n",
    "for key in dicc_2:  # es lo mismo que dicc_2.keys()\n",
    "    print(f\"La llave '{key}' contiene el valor '{dicc_2[key]}'\")"
   ]
  },
  {
   "cell_type": "code",
   "execution_count": null,
   "metadata": {},
   "outputs": [
    {
     "name": "stdout",
     "output_type": "stream",
     "text": [
      "La llave 'nombre' contiene el valor 'martin'\n",
      "La llave 'apellido' contiene el valor 'aguilar'\n",
      "La llave 'edad' contiene el valor '20'\n",
      "La llave 'programa' contiene el valor 'derecho'\n",
      "La llave 'año' contiene el valor '2023'\n"
     ]
    }
   ],
   "source": [
    "dicc_2 = {\n",
    "    \"nombre\": \"martin\",\n",
    "    \"apellido\": \"aguilar\",\n",
    "    \"edad\": 20,\n",
    "    \"programa\": \"derecho\",\n",
    "    \"año\": 2023\n",
    "}\n",
    "\n",
    "# iteramos sobre tuplas que contienen la llave y el valor\n",
    "for key, value in dicc_2.items():  # es lo mismo que dicc_2.keys()\n",
    "    print(f\"La llave '{key}' contiene el valor '{value}'\")"
   ]
  },
  {
   "cell_type": "code",
   "execution_count": null,
   "metadata": {},
   "outputs": [
    {
     "name": "stdout",
     "output_type": "stream",
     "text": [
      "El estudiante Mariana estudia derecho\n",
      "El estudiante Camila estudia economía\n",
      "El estudiante Felipe estudia ingeniería\n"
     ]
    }
   ],
   "source": [
    "estudiantes = [\"Mariana\", \"Camila\", \"Felipe\"]\n",
    "programas = [\"derecho\", \"economía\", \"ingeniería\"]\n",
    "\n",
    "# zip permite iterar sobre dos o más listas al mismo tiempo\n",
    "for estudiante, programa in zip(estudiantes, programas):\n",
    "    print(f\"El estudiante {estudiante} estudia {programa}\")"
   ]
  },
  {
   "cell_type": "code",
   "execution_count": null,
   "metadata": {},
   "outputs": [
    {
     "name": "stdout",
     "output_type": "stream",
     "text": [
      "El estudiante Mariana se enumeró como 1\n",
      "El estudiante Camila se enumeró como 2\n",
      "El estudiante Felipe se enumeró como 3\n"
     ]
    }
   ],
   "source": [
    "estudiantes = [\"Mariana\", \"Camila\", \"Felipe\"]\n",
    "\n",
    "# se puede usar \"enumerate\" para obtener el índice\n",
    "for i, estudiante in enumerate(estudiantes, start=1):\n",
    "    print(f\"El estudiante {estudiante} se enumeró como {i}\")\n"
   ]
  },
  {
   "cell_type": "code",
   "execution_count": null,
   "metadata": {},
   "outputs": [
    {
     "name": "stdout",
     "output_type": "stream",
     "text": [
      "['hola']\n",
      "['hola', 'estudiante']\n",
      "['hola', 'estudiante', 'python']\n",
      "['hola', 'estudiante', 'python', 'nivel']\n",
      "['hola', 'estudiante', 'python', 'nivel', 'básico']\n"
     ]
    }
   ],
   "source": [
    "palabras = [\"Hola\", \"estudiante\", \"python\", \"nivel\", \"básico\"]\n",
    "palabras_clean = []\n",
    "for palabra in palabras:\n",
    "    palabra_clean = palabra.lower()\n",
    "    # agregamos un item al final de la lista que vamos a llenar\n",
    "    # (aunque no es la forma más eficiente)\n",
    "    palabras_clean.append(palabra_clean)\n",
    "    print(palabras_clean)"
   ]
  },
  {
   "cell_type": "markdown",
   "metadata": {},
   "source": [
    "## 🔹 COMPRENSION DE LISTAS"
   ]
  },
  {
   "cell_type": "markdown",
   "metadata": {},
   "source": [
    "🔄 **Útil para iterar sobre iterables**\n",
    "\n",
    "**Listas, tuplas, conjuntos y diccionarios**, permitiendo aplicar una función o método a cada elemento.  \n",
    "\n",
    "📌 **Ejemplos**"
   ]
  },
  {
   "cell_type": "code",
   "execution_count": null,
   "metadata": {},
   "outputs": [
    {
     "data": {
      "text/plain": [
       "['PEDRO', 'ANA', 'JUAN']"
      ]
     },
     "execution_count": 53,
     "metadata": {},
     "output_type": "execute_result"
    }
   ],
   "source": [
    "# entra una lista -> sale otra lista\n",
    "estudiantes = [\"pedro\", \"ana\", \"juan\"]\n",
    "ESTUDIANTES = [estudiante.upper() for estudiante in estudiantes]\n",
    "ESTUDIANTES"
   ]
  },
  {
   "cell_type": "code",
   "execution_count": null,
   "metadata": {},
   "outputs": [
    {
     "data": {
      "text/plain": [
       "{'palabra_1': 'Leandro', 'palabra_2': 'Ariza', 'palabra_3': 'Jimenez'}"
      ]
     },
     "execution_count": 54,
     "metadata": {},
     "output_type": "execute_result"
    }
   ],
   "source": [
    "dicc_3 = {\n",
    "    \"Palabra_1\": \"leanDRO\",\n",
    "    \"palabra_2\": \"aRiZa\",\n",
    "    \"Palabra_3\": \"JiMeneZ\"\n",
    "}\n",
    "\n",
    "# dicc_3_clean = {<key>: <value> for <key>, <value> in <diccionario>.items()}\n",
    "dicc_3_clean = {key.lower(): value.capitalize() for key, value in dicc_3.items()}\n",
    "dicc_3_clean"
   ]
  },
  {
   "cell_type": "code",
   "execution_count": null,
   "metadata": {},
   "outputs": [
    {
     "data": {
      "text/plain": [
       "[3.5, 4.0, 4.5, 3.0]"
      ]
     },
     "execution_count": 55,
     "metadata": {},
     "output_type": "execute_result"
    }
   ],
   "source": [
    "calificaciones = [3.5, 4.0, 2.5, 4.5, 3.0]\n",
    "\n",
    "# se puede usar \"if\" para filtrar los elementos\n",
    "# de la lista que cumplen con una condición\n",
    "aprobados = [calificacion for calificacion in calificaciones if calificacion >= 3.0]\n",
    "aprobados"
   ]
  },
  {
   "cell_type": "code",
   "execution_count": null,
   "metadata": {},
   "outputs": [
    {
     "data": {
      "text/plain": [
       "['aprueba', 'aprueba', 'desaprueba', 'aprueba', 'aprueba']"
      ]
     },
     "execution_count": 56,
     "metadata": {},
     "output_type": "execute_result"
    }
   ],
   "source": [
    "calificaciones = [3.5, 4.0, 2.5, 4.5, 3.0]\n",
    "\n",
    "# también se puede usar \"if\" y \"else\" en conjunto\n",
    "aprobados = [\"aprueba\" if calificacion >= 3.0 else \"desaprueba\" for calificacion in calificaciones]\n",
    "aprobados"
   ]
  },
  {
   "cell_type": "code",
   "execution_count": null,
   "metadata": {},
   "outputs": [
    {
     "data": {
      "text/plain": [
       "True"
      ]
     },
     "execution_count": 57,
     "metadata": {},
     "output_type": "execute_result"
    }
   ],
   "source": [
    "\"10\".isnumeric()"
   ]
  },
  {
   "cell_type": "code",
   "execution_count": null,
   "metadata": {},
   "outputs": [
    {
     "data": {
      "text/plain": [
       "[('hoy', 'text'),\n",
       " ('es', 'text'),\n",
       " ('24', 'numeric'),\n",
       " ('de', 'text'),\n",
       " ('febrero', 'text'),\n",
       " ('de', 'text'),\n",
       " ('2025', 'numeric'),\n",
       " ('y', 'text'),\n",
       " ('mañana', 'text'),\n",
       " ('es', 'text'),\n",
       " ('25', 'numeric')]"
      ]
     },
     "execution_count": 58,
     "metadata": {},
     "output_type": "execute_result"
    }
   ],
   "source": [
    "frase = \"hoy es 24 de febrero de 2025 y mañana es 25\"\n",
    "tokens = frase.split(\" \")\n",
    "\n",
    "tokens_analizados = [(token, \"numeric\") if token.isnumeric() else (token, \"text\") for token in tokens]\n",
    "tokens_analizados"
   ]
  },
  {
   "cell_type": "markdown",
   "metadata": {},
   "source": [
    "## 🎉 ¡Felicidades por completar la segunda sesión! 🚀  "
   ]
  }
 ],
 "metadata": {
  "kernelspec": {
   "display_name": "Python 3",
   "language": "python",
   "name": "python3"
  },
  "language_info": {
   "codemirror_mode": {
    "name": "ipython",
    "version": 3
   },
   "file_extension": ".py",
   "mimetype": "text/x-python",
   "name": "python",
   "nbconvert_exporter": "python",
   "pygments_lexer": "ipython3",
   "version": "3.13.2"
  }
 },
 "nbformat": 4,
 "nbformat_minor": 2
}
