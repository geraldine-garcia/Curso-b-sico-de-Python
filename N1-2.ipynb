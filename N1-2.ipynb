{
 "cells": [
  {
   "cell_type": "markdown",
   "metadata": {},
   "source": [
    "## ¡Aprende Python Básico desde cero!🚀"
   ]
  },
  {
   "cell_type": "markdown",
   "metadata": {},
   "source": [
    "Este curso es tu primer paso en el mundo de la programación con Python. En solo cinco partes, te enseñaré las bases fundamentales para que puedas desbloquear tu potencial y seguir explorando este lenguaje.\n",
    "\n",
    "No necesitas experiencia previa, solo un poco de curiosidad y dedicación. Si le dedicas unos minutos al día, estarás construyendo una habilidad valiosa que puede abrirte infinitas oportunidades en tecnología, ciencia de datos, automatización y más.\n",
    "\n",
    "🌟 ¡El mejor momento para empezar es ahora! 🌟"
   ]
  },
  {
   "cell_type": "markdown",
   "metadata": {},
   "source": [
    "*¿Qué aprenderás?* 📝"
   ]
  },
  {
   "cell_type": "markdown",
   "metadata": {},
   "source": [
    "# 📝 **Contenido del Curso de Python**\n",
    "\n",
    "En este curso aprenderás los fundamentos de **Python**, incluyendo:\n",
    "\n",
    "- ✅ **Instalación y configuración**  \n",
    "- ✅ **Fundamentos básicos**  \n",
    "- ✅ **Variables y tipos de datos básicos**  \n",
    "- ✅ **Operaciones sobre tipos de datos**  \n",
    "- ✅ **Conversión de tipos de datos**  \n",
    "- ✅ **Breve introducción a clases, objetos, atributos y métodos**  \n",
    "- ✅ **Estructuras de datos**  \n",
    "  - **Listas**  \n",
    "  - **Tuplas**  \n",
    "  - **Set**  \n",
    "  - **Diccionarios**  \n",
    "- ✅ **Indexación y manipulación de estructuras de datos**  \n",
    "- ✅ **Estructuras de control**  \n",
    "- ✅ **Ciclos (loops, iteraciones o repeticiones)**  \n",
    "- ✅ **Comprensión de listas**  \n",
    "- ✅ **Funciones**  \n",
    "- ✅ **Scope**  \n",
    "- ✅ **Docstrings**  \n",
    "- ✅ **Módulos/librerías e importaciones**  \n"
   ]
  },
  {
   "cell_type": "markdown",
   "metadata": {},
   "source": [
    "# 🎯 Objetivo del Curso\n",
    "\n",
    "Este curso tiene como propósito enseñarte los **fundamentos esenciales de Python**, brindándote las herramientas necesarias para que puedas:\n",
    "\n",
    "✅ **Comprender la sintaxis y estructura del lenguaje**  \n",
    "✅ **Escribir código limpio y eficiente**  \n",
    "✅ **Manejar distintos tipos de datos y estructuras fundamentales**  \n",
    "✅ **Dar tus primeros pasos en la programación orientada a objetos**  \n",
    "\n",
    "\n"
   ]
  },
  {
   "cell_type": "markdown",
   "metadata": {},
   "source": [
    "## ¡EMPECEMOS!"
   ]
  },
  {
   "cell_type": "markdown",
   "metadata": {},
   "source": [
    "# Instalación de Python y Visual Studio Code\n",
    "\n",
    "1️⃣ Descargar Python\n",
    "- Accede a la página oficial de Python: [🔗 python.org/downloads](https://www.python.org/downloads/)\n",
    "- Descarga la versión más reciente o la que necesites según tu proyecto.\n",
    "\n",
    "2️⃣ Instalar un Editor de Código (Opcional, pero Recomendado)\n",
    "- Para escribir y ejecutar tu código de manera más eficiente, instala **Visual Studio Code (VS Code)**.\n",
    "- Puedes descargarlo desde:\n",
    "  - **Página oficial**: [🔗 code.visualstudio.com](https://code.visualstudio.com/)\n",
    "  - **Microsoft Store** (en Windows).\n",
    "\n",
    "\n",
    "\n"
   ]
  },
  {
   "cell_type": "markdown",
   "metadata": {},
   "source": [
    "## Fundamentos básicos "
   ]
  },
  {
   "cell_type": "markdown",
   "metadata": {},
   "source": [
    "# 🐍 ¿Qué es Python y para qué se usa?\n",
    "\n",
    "Python es un lenguaje de programación de alto nivel, interpretado y de código abierto, conocido por su sintaxis sencilla y legible. Su versatilidad lo hace ideal para múltiples aplicaciones, como:\n",
    "\n",
    "✅ **Desarrollo web**  \n",
    "✅ **Ciencia de datos y machine learning**  \n",
    "✅ **Automatización de tareas y scripting**  \n",
    "✅ **Desarrollo de videojuegos**  \n",
    "✅ **Ciberseguridad y análisis forense**  \n",
    "\n",
    "\n",
    "📌 Gracias a su gran comunidad y amplia variedad de bibliotecas, Python es uno de los lenguajes más utilizados en el mundo de la tecnología.\n"
   ]
  },
  {
   "cell_type": "markdown",
   "metadata": {},
   "source": [
    "# 🔹 Variables y Tipos de Datos Básicos\n",
    "\n",
    "En programación, una variable es un espacio en la memoria utilizado para almacenar datos.  \n",
    "\n",
    "En algunos lenguajes, es necesario declarar explícitamente el tipo de dato de una variable. Sin embargo, en Python, esto no es necesario, ya que el lenguaje infiera automáticamente el tipo de dato según el valor asignado.\n",
    "\n",
    "📌 **Ejemplo**\n",
    "```python\n",
    "nombre = \"Juan\"   # Python detecta que es una cadena de texto (str)\n",
    "edad = 25         # Python detecta que es un número entero (int)\n",
    "altura = 1.75     # Python detecta que es un número decimal (float)\n",
    "es_estudiante = True  # Python detecta que es un valor booleano (bool)\n"
   ]
  },
  {
   "cell_type": "markdown",
   "metadata": {},
   "source": [
    "# ⚠️ ¡Tener en Cuenta!  \n",
    "\n",
    "Las variables deben ser nombradas con cuidado y con nombres alusivos a su propósito, por ello se recomienda:  \n",
    "\n",
    "- ✅ **No usar espacios** en el nombre → En su lugar, se puede utilizar `_` (guion bajo).  \n",
    "- ✅ **Emplear solo caracteres alfanuméricos** (*letras y números, sin caracteres especiales*).  \n",
    "- ✅ **No comenzar con números** → El nombre debe iniciar con una letra o un guion bajo `_`.  \n",
    "- ✅ **Distinguir entre mayúsculas y minúsculas** → `Variable`, `variable` y `VARIABLE` son diferentes.  \n",
    "\n",
    "\n",
    "\n",
    "\n",
    "\n",
    "\n",
    "\n"
   ]
  },
  {
   "cell_type": "markdown",
   "metadata": {},
   "source": [
    "🔹 Ejemplo de una Variable Entera\n"
   ]
  },
  {
   "cell_type": "code",
   "execution_count": 2,
   "metadata": {},
   "outputs": [],
   "source": [
    "entero_1 = 1\n",
    "entero_2 = -1000\n",
    "entero_3 = 3_500_100\n",
    "float_1 = 1.0\n",
    "float_2 = 3.1416\n",
    "float_3 = -0.0001\n"
   ]
  },
  {
   "cell_type": "code",
   "execution_count": 3,
   "metadata": {},
   "outputs": [
    {
     "data": {
      "text/plain": [
       "3500100"
      ]
     },
     "execution_count": 3,
     "metadata": {},
     "output_type": "execute_result"
    }
   ],
   "source": [
    "# Podemos llamar a las variables por su nombre para su contenido\n",
    "entero_3"
   ]
  },
  {
   "cell_type": "markdown",
   "metadata": {},
   "source": [
    "# 📝 Tipos de Datos en Python  \n",
    "\n",
    "Python, en su estructura, reconoce diferentes tipos de datos, cada uno con distintas funciones y propósitos.  \n",
    "Estos permiten manipular la información de manera eficiente según su naturaleza.  \n"
   ]
  },
  {
   "cell_type": "markdown",
   "metadata": {},
   "source": [
    "🖥️ Uso de type y print en Python  \n",
    "\n",
    "🔹 type(): Identificar el tipo de dato  \n",
    "Si deseas conocer el tipo de dato de una variable, puedes usar la función type()\n",
    "\n",
    "🔹 La función print() se usa para visualizar información en la salida estándar (consola)."
   ]
  },
  {
   "cell_type": "code",
   "execution_count": 14,
   "metadata": {},
   "outputs": [
    {
     "name": "stdout",
     "output_type": "stream",
     "text": [
      "El tipo de 'numero_entero' es: <class 'int'>\n",
      "El tipo de 'numero_decimal' es: <class 'float'>\n",
      "El tipo de 'texto' es: <class 'str'>\n",
      "El tipo de 'valor_booleano' es: <class 'bool'>\n"
     ]
    }
   ],
   "source": [
    "# Definimos diferentes tipos de variables\n",
    "numero_entero = 10\n",
    "numero_decimal = 3.14\n",
    "texto = \"Hola, Python\"\n",
    "valor_booleano = True\n",
    "\n",
    "# Usamos type() para conocer el tipo de cada variable y print() para mostrarlo\n",
    "print(\"El tipo de 'numero_entero' es:\", type(numero_entero))  \n",
    "print(\"El tipo de 'numero_decimal' es:\", type(numero_decimal))  \n",
    "print(\"El tipo de 'texto' es:\", type(texto))  \n",
    "print(\"El tipo de 'valor_booleano' es:\", type(valor_booleano))  \n"
   ]
  },
  {
   "cell_type": "markdown",
   "metadata": {},
   "source": [
    "## 🔹 Operaciones sobre Tipos de Datos\n"
   ]
  },
  {
   "cell_type": "code",
   "execution_count": 15,
   "metadata": {},
   "outputs": [
    {
     "name": "stdout",
     "output_type": "stream",
     "text": [
      "La suma de 10 + 5 es: 15\n",
      "La resta de 10 - 5 es: 5\n",
      "La multiplicación de 10 * 5 es: 50\n",
      "La división de 10 / 5 es: 2.0\n",
      "La división entera de 10 // 5 es: 2\n",
      "10 elevado a la 5 es: 100000\n"
     ]
    }
   ],
   "source": [
    "# 📌 Operaciones básicas\n",
    "\n",
    "# Definimos dos números\n",
    "a = 10\n",
    "b = 5\n",
    "\n",
    "# Suma (+)\n",
    "suma = a + b\n",
    "print(f\"La suma de {a} + {b} es: {suma}\")\n",
    "\n",
    "# Resta (-)\n",
    "resta = a - b\n",
    "print(f\"La resta de {a} - {b} es: {resta}\")\n",
    "\n",
    "# Multiplicación (*)\n",
    "multiplicacion = a * b\n",
    "print(f\"La multiplicación de {a} * {b} es: {multiplicacion}\")\n",
    "\n",
    "# División (/)\n",
    "division = a / b  # Siempre devuelve un número decimal (float)\n",
    "print(f\"La división de {a} / {b} es: {division}\")\n",
    "\n",
    "# División entera (//)\n",
    "division_entera = a // b  # Solo devuelve la parte entera\n",
    "print(f\"La división entera de {a} // {b} es: {division_entera}\")\n",
    "\n",
    "# Potencia (**)\n",
    "potencia = a ** b\n",
    "print(f\"{a} elevado a la {b} es: {potencia}\")\n"
   ]
  },
  {
   "cell_type": "markdown",
   "metadata": {},
   "source": [
    "🔹**OTRAS OPERACIONES**\n",
    "\n",
    "📌 **Ejemplo**"
   ]
  },
  {
   "cell_type": "code",
   "execution_count": null,
   "metadata": {},
   "outputs": [
    {
     "name": "stdout",
     "output_type": "stream",
     "text": [
      "5 <class 'int'>\n"
     ]
    }
   ],
   "source": [
    "suma_int= 2+3\n",
    "print(suma_int, type(suma_int)) \n",
    "\n",
    "# Es de esperarse que el resultado sea un int, ya que la operación se hizo entre dos enteros"
   ]
  },
  {
   "cell_type": "code",
   "execution_count": 17,
   "metadata": {},
   "outputs": [
    {
     "name": "stdout",
     "output_type": "stream",
     "text": [
      "5.8 <class 'float'>\n"
     ]
    }
   ],
   "source": [
    "suma_float= 2.5+3.3\n",
    "print(suma_float, type(suma_float)) \n",
    "\n",
    "# Es de esperarse que el resultado sea un float, ya que la operación se hizo entre dos decimales, recrdar que float también se considera cuando el número obtenido es del tipo .0"
   ]
  },
  {
   "cell_type": "code",
   "execution_count": 19,
   "metadata": {},
   "outputs": [
    {
     "data": {
      "text/plain": [
       "float"
      ]
     },
     "execution_count": 19,
     "metadata": {},
     "output_type": "execute_result"
    }
   ],
   "source": [
    "# DECIMALES (float), a diferencia del tipo de dato anterios, este se caracteriza por ser tanto positivo como negativo y por albergar valores que tengan cifras decimales.\n",
    "\n",
    "numero_float=33.001\n",
    "type(numero_float)"
   ]
  },
  {
   "cell_type": "markdown",
   "metadata": {},
   "source": [
    "🔹 **STRINGS**"
   ]
  },
  {
   "cell_type": "code",
   "execution_count": 20,
   "metadata": {},
   "outputs": [
    {
     "data": {
      "text/plain": [
       "str"
      ]
     },
     "execution_count": 20,
     "metadata": {},
     "output_type": "execute_result"
    }
   ],
   "source": [
    "# STRING (texto), bajo esta catgoría serán clasificados todas las cadenas de texto\n",
    "\n",
    "string=\"Perro, Gato\"\n",
    "type(string)"
   ]
  },
  {
   "cell_type": "markdown",
   "metadata": {},
   "source": [
    "📌 **Ejemplo**"
   ]
  },
  {
   "cell_type": "code",
   "execution_count": 6,
   "metadata": {},
   "outputs": [
    {
     "name": "stdout",
     "output_type": "stream",
     "text": [
      "Geraldine García\n"
     ]
    }
   ],
   "source": [
    "nombre=\"Geraldine\"\n",
    "apellido=\" García\"\n",
    "nombre_completo= nombre+apellido\n",
    "print(nombre_completo)"
   ]
  },
  {
   "cell_type": "markdown",
   "metadata": {},
   "source": [
    "🔹 **Uso de F - strings**"
   ]
  },
  {
   "cell_type": "code",
   "execution_count": 23,
   "metadata": {},
   "outputs": [],
   "source": [
    "string_1 = \"Geraldine\"\n",
    "string_2 = \"García\"\n",
    "string_3 = \"2025\""
   ]
  },
  {
   "cell_type": "code",
   "execution_count": 24,
   "metadata": {},
   "outputs": [
    {
     "name": "stdout",
     "output_type": "stream",
     "text": [
      "mi nombre es Geraldine García y es el año 2025\n"
     ]
    }
   ],
   "source": [
    "# Uso de F - strings:\n",
    "# Incorporación de contenido de variables en un texto mediante \"palce-holders\"\n",
    "print(f\"mi nombre es {string_1} {string_2} y es el año {string_3}\")"
   ]
  },
  {
   "cell_type": "markdown",
   "metadata": {},
   "source": [
    "🔹 **BOOLEANOS**"
   ]
  },
  {
   "cell_type": "markdown",
   "metadata": {},
   "source": [
    "Hace referecia a los valores posibles de TRUE (verdadero) o FALSE (falso)\n",
    "\n",
    "📌 Ejemplo "
   ]
  },
  {
   "cell_type": "code",
   "execution_count": 31,
   "metadata": {},
   "outputs": [
    {
     "name": "stdout",
     "output_type": "stream",
     "text": [
      "El valor de 'es_mayor' es: True\n",
      "El valor de 'es_menor' es: False\n",
      "¿Es adulto? True\n"
     ]
    }
   ],
   "source": [
    "# Definiendo variables booleanas\n",
    "es_mayor = True\n",
    "es_menor = False\n",
    "\n",
    "# Mostrando los valores\n",
    "print(f\"El valor de 'es_mayor' es: {es_mayor}\")  # Salida: True\n",
    "print(f\"El valor de 'es_menor' es: {es_menor}\")  # Salida: False\n",
    "\n",
    "# Uso de booleanos en una condición\n",
    "edad = 18\n",
    "es_adulto = edad >= 18  # Esto devuelve True si la edad es 18 o mayor\n",
    "\n",
    "print(f\"¿Es adulto? {es_adulto}\")  # Salida: True\n"
   ]
  },
  {
   "cell_type": "markdown",
   "metadata": {},
   "source": [
    "🔹 **OPERADORES LÓGICOS**\n",
    "\n",
    "<, <=, >, >=, ==, !=\n",
    "\n",
    "📌 Ejemplo \n"
   ]
  },
  {
   "cell_type": "code",
   "execution_count": 30,
   "metadata": {},
   "outputs": [
    {
     "name": "stdout",
     "output_type": "stream",
     "text": [
      "True\n",
      "True\n",
      "True\n",
      "True\n",
      "True\n",
      "False\n"
     ]
    }
   ],
   "source": [
    "3!=1\n",
    "\n",
    "print(3 > 2)\n",
    "print(3 >= 3)\n",
    "print(-8 < 0)\n",
    "print(-10 <=- 1)\n",
    "print(3 == 3)\n",
    "print(7 != 7)"
   ]
  },
  {
   "cell_type": "markdown",
   "metadata": {},
   "source": [
    "🔹 **OPERADORES AND, OR, NOT**\n",
    "\n",
    "📌 Ejemplo "
   ]
  },
  {
   "cell_type": "code",
   "execution_count": 28,
   "metadata": {},
   "outputs": [
    {
     "data": {
      "text/plain": [
       "True"
      ]
     },
     "execution_count": 28,
     "metadata": {},
     "output_type": "execute_result"
    }
   ],
   "source": [
    "promedio=5.0\n",
    "estrato=4\n",
    "ofrecer_beca=(promedio >= 4.0) or (semestre < 3)\n",
    "ofrecer_beca"
   ]
  },
  {
   "cell_type": "markdown",
   "metadata": {},
   "source": [
    "## 🔹 Conversión de tipos de datos"
   ]
  },
  {
   "cell_type": "markdown",
   "metadata": {},
   "source": [
    "A este procedimiento comunmente también se le conoce como \"forzar el tipo de dato\", pues a pesar de que para nosotros sea claro que tipo de dato es nuestra variable, el propósito será hacer que la máquina lo interprete como otro. A continuación se muestran una serie de ejemplos que ayudarán a similar un poco mejor esta idea.\n",
    "\n",
    "📌 5 Ejemplos"
   ]
  },
  {
   "cell_type": "code",
   "execution_count": 1,
   "metadata": {},
   "outputs": [
    {
     "name": "stdout",
     "output_type": "stream",
     "text": [
      "20.0 <class 'float'>\n"
     ]
    }
   ],
   "source": [
    "# Conversión de entero a float\n",
    "\n",
    "entero_prueba=20\n",
    "float_prueba=float(entero_prueba)\n",
    "print(float_prueba, type(float_prueba))\n",
    "\n",
    "#En este caso no se forzó el tipo, pero si se convirtió un dato inicialmente considerado como un entero a decimal, agregando un .0"
   ]
  },
  {
   "cell_type": "code",
   "execution_count": 2,
   "metadata": {},
   "outputs": [
    {
     "name": "stdout",
     "output_type": "stream",
     "text": [
      "22 <class 'int'>\n"
     ]
    }
   ],
   "source": [
    "# Para convertir un string a entero (Advertencia: Se recomienda hacer esta conversión unicamente en casos donde el str sea un número)\n",
    "\n",
    "str_prueba = \"22\"\n",
    "entero_2prueba = int(str_prueba)\n",
    "print(entero_2prueba, type(entero_2prueba))"
   ]
  },
  {
   "cell_type": "code",
   "execution_count": null,
   "metadata": {},
   "outputs": [],
   "source": [
    "# Para convertir un número decimal (float) a string (cadena de texto)\n",
    "\n",
    "float_2prueba = 15.689\n",
    "str_2prueba = str(float_2prueba)\n",
    "print(str_2prueba, type(str_2prueba))"
   ]
  },
  {
   "cell_type": "code",
   "execution_count": 3,
   "metadata": {},
   "outputs": [
    {
     "name": "stdout",
     "output_type": "stream",
     "text": [
      "1000 <class 'int'>\n"
     ]
    }
   ],
   "source": [
    "# float a entero\n",
    "saldo_cuenta=1000.68\n",
    "saldo_cuenta_red=int(saldo_cuenta)\n",
    "print(saldo_cuenta_red, type(saldo_cuenta_red))"
   ]
  },
  {
   "cell_type": "code",
   "execution_count": 4,
   "metadata": {},
   "outputs": [
    {
     "name": "stdout",
     "output_type": "stream",
     "text": [
      "1\n",
      "1.0\n",
      "True\n"
     ]
    }
   ],
   "source": [
    "# Conversion de booleanos\n",
    "dato_booleano=True\n",
    "print(int(dato_booleano))\n",
    "print(float(dato_booleano))\n",
    "print(str(dato_booleano))"
   ]
  },
  {
   "cell_type": "markdown",
   "metadata": {},
   "source": [
    "## 🔹Breve introducción a clases, objetos, atributos y métodos\n",
    "\n",
    "* Un objeto es como un \"sustantivo\".\n",
    "* Sobre los objetos se pueden aplicar \"métodos\" y consultar \"atributos\". Se emplea un punto (`.`) después del objeto para cualquiera de los dos casos.\n",
    "* Métodos = acciones, terminan en `()`.\n",
    "\n",
    "📌 Ejemplo"
   ]
  },
  {
   "cell_type": "code",
   "execution_count": 7,
   "metadata": {},
   "outputs": [
    {
     "name": "stdout",
     "output_type": "stream",
     "text": [
      "Geraldine García\n",
      "Geraldine garcía\n",
      "Geraldine García\n",
      "GERALDINE GARCÍA\n",
      "geraldine garcía\n"
     ]
    }
   ],
   "source": [
    "print(nombre_completo)\n",
    "print(nombre_completo.capitalize())\n",
    "print(nombre_completo.title())\n",
    "print(nombre_completo.upper())\n",
    "print(nombre_completo.lower())"
   ]
  },
  {
   "cell_type": "markdown",
   "metadata": {},
   "source": [
    "## 🔹Estructuras de datos\n",
    "\n",
    "Python, al igual que muchos otros lenguajes de programación, tiene incorporados una serie de estructuras de datos que permiten almacenar información de diferentes maneras, y cada una de estas estructuras cuenta con características propias e inmutables.\n",
    "\n",
    "🔹 **LISTAS**\n",
    "\n",
    "\n",
    "* Se definen entonces como una colección ordenada y mutables de elementos.\n",
    "\n",
    "\n",
    "\n",
    "📌 Ejemplos"
   ]
  },
  {
   "cell_type": "code",
   "execution_count": 8,
   "metadata": {},
   "outputs": [
    {
     "name": "stdout",
     "output_type": "stream",
     "text": [
      "[2, 4, 6, 8, 10, 12] <class 'list'>\n"
     ]
    }
   ],
   "source": [
    "lista_prueba = [2, 4, 6, 8, 10, 12]\n",
    "print(lista_prueba, type(lista_prueba))"
   ]
  },
  {
   "cell_type": "code",
   "execution_count": 9,
   "metadata": {},
   "outputs": [
    {
     "name": "stdout",
     "output_type": "stream",
     "text": [
      "[2, 4, 6, 8, 10, 12, 62]\n"
     ]
    }
   ],
   "source": [
    "# Si se desea añadir elementos a la lista existente, se procederá así:\n",
    "\n",
    "lista_prueba.append(62)\n",
    "print(lista_prueba)"
   ]
  },
  {
   "cell_type": "code",
   "execution_count": 10,
   "metadata": {},
   "outputs": [
    {
     "name": "stdout",
     "output_type": "stream",
     "text": [
      "2\n",
      "10\n",
      "12\n"
     ]
    }
   ],
   "source": [
    "# Si se desea acceder a una posición exacta de algún elemento de la lista se puede proceder de la siguiete manera. Tener en cuenta que en Python la primera posición es 0.\n",
    "print(lista_prueba[0])\n",
    "print(lista_prueba[4])\n",
    "print(lista_prueba[5])"
   ]
  },
  {
   "cell_type": "code",
   "execution_count": 11,
   "metadata": {},
   "outputs": [
    {
     "name": "stdout",
     "output_type": "stream",
     "text": [
      "[2, 4, 6, 8, 10, 12, 62, 'perro', 'gato', 'conejo', 'hamster']\n"
     ]
    }
   ],
   "source": [
    "# Si lo que se desea es unir dos o más listas, es decir concatenarlas, se sugiere emplear la siguiente línea.\n",
    "\n",
    "lista_2prueba = [\"perro\", \"gato\", \"conejo\", \"hamster\"]\n",
    "nueva_lista=lista_prueba + lista_2prueba\n",
    "print(nueva_lista)"
   ]
  },
  {
   "cell_type": "code",
   "execution_count": 12,
   "metadata": {},
   "outputs": [
    {
     "data": {
      "text/plain": [
       "['perro', 'gato', 'conejo']"
      ]
     },
     "execution_count": 12,
     "metadata": {},
     "output_type": "execute_result"
    }
   ],
   "source": [
    "# Para eliminar algún elemento de nuestra lista\n",
    "\n",
    "lista_2prueba.remove(\"hamster\")\n",
    "lista_2prueba"
   ]
  },
  {
   "cell_type": "code",
   "execution_count": 13,
   "metadata": {},
   "outputs": [
    {
     "data": {
      "text/plain": [
       "['perro', 'gato', 'caballo', 'conejo']"
      ]
     },
     "execution_count": 13,
     "metadata": {},
     "output_type": "execute_result"
    }
   ],
   "source": [
    "# Para añadir elementos en una posición exacta de la lista, y no solo al final como se insertan por default.\n",
    "lista_2prueba.insert(2, \"caballo\")\n",
    "lista_2prueba"
   ]
  },
  {
   "cell_type": "code",
   "execution_count": 14,
   "metadata": {},
   "outputs": [
    {
     "name": "stdout",
     "output_type": "stream",
     "text": [
      "Forma original: [19.3, 2.0, -7.3, 6]\n",
      "Forma ordenada: [-7.3, 2.0, 6, 19.3]\n"
     ]
    }
   ],
   "source": [
    "# Para ordenar una lista de menor a mayor\n",
    "\n",
    "lista_3prueba = [19.3, 2.0, -7.3, 6]\n",
    "print(f\"Forma original: {lista_3prueba}\")\n",
    "lista_3prueba.sort()\n",
    "print(f\"Forma ordenada: {lista_3prueba}\")"
   ]
  },
  {
   "cell_type": "code",
   "execution_count": 15,
   "metadata": {},
   "outputs": [
    {
     "name": "stdout",
     "output_type": "stream",
     "text": [
      "Forma original:  1.000.534.646 \n",
      "Formato limpio: 1000534646\n"
     ]
    }
   ],
   "source": [
    "# Limpiar variables, el ejemplo que se ilustra es removiendo los puntos que contiene el número de la variable.\n",
    "numero_cedula = \" 1.000.534.646 \"\n",
    "print(f\"Forma original: {numero_cedula}\")\n",
    "numero_cedula_limpio = numero_cedula.replace(\".\", \"\").strip()\n",
    "print(f\"Formato limpio: {numero_cedula_limpio}\")"
   ]
  },
  {
   "cell_type": "code",
   "execution_count": 16,
   "metadata": {},
   "outputs": [
    {
     "name": "stdout",
     "output_type": "stream",
     "text": [
      "None\n",
      "None\n"
     ]
    }
   ],
   "source": [
    "# APPEND vs EXTEND\n",
    "lista4=[1,5,7]\n",
    "lista5=[9,0,10]\n",
    "lista6=lista4.append(lista5)\n",
    "print(lista6)\n",
    "lista7=lista4.extend(lista5)\n",
    "print(lista7)"
   ]
  },
  {
   "cell_type": "code",
   "execution_count": 17,
   "metadata": {},
   "outputs": [
    {
     "data": {
      "text/plain": [
       "[]"
      ]
     },
     "execution_count": 17,
     "metadata": {},
     "output_type": "execute_result"
    }
   ],
   "source": [
    "# Lista vacía\n",
    "Lista_vacia=[]\n",
    "Lista_vacia"
   ]
  },
  {
   "cell_type": "code",
   "execution_count": 18,
   "metadata": {},
   "outputs": [
    {
     "name": "stdout",
     "output_type": "stream",
     "text": [
      "7\n",
      "0\n"
     ]
    }
   ],
   "source": [
    "# Longitud de una lista\n",
    "print(len(lista4))\n",
    "print(len(Lista_vacia))"
   ]
  },
  {
   "cell_type": "code",
   "execution_count": 20,
   "metadata": {},
   "outputs": [
    {
     "name": "stdout",
     "output_type": "stream",
     "text": [
      "[7, -1, 19, 200]\n",
      "[7, -1, 19]\n"
     ]
    }
   ],
   "source": [
    "# Copy, para evitar que al crear una copia no se afecte el objeto original, se recomienda hacer un copy, de tal manera que los cambios efectuados en la copia no afecte la versión original.\n",
    "lista8=[7,-1,19]\n",
    "lista9=lista8.copy()\n",
    "\n",
    "lista9.append(200)\n",
    "print(lista9)\n",
    "print(lista8)"
   ]
  },
  {
   "cell_type": "markdown",
   "metadata": {},
   "source": [
    "🔹 **TUPLAS**\n",
    "\n",
    "Aunque en principio pueden verse similar a las listas, la principal diferencia radica en que las tuplas no son mutables.\n",
    "\n",
    "\n",
    "📌 Ejemplos"
   ]
  },
  {
   "cell_type": "code",
   "execution_count": 21,
   "metadata": {},
   "outputs": [
    {
     "data": {
      "text/plain": [
       "('hello world', 22, True)"
      ]
     },
     "execution_count": 21,
     "metadata": {},
     "output_type": "execute_result"
    }
   ],
   "source": [
    "tupla_1prueba = (\"hello world\", 22, True)\n",
    "tupla_1prueba"
   ]
  },
  {
   "cell_type": "code",
   "execution_count": 22,
   "metadata": {},
   "outputs": [
    {
     "data": {
      "text/plain": [
       "(566, 'tuplas', False)"
      ]
     },
     "execution_count": 22,
     "metadata": {},
     "output_type": "execute_result"
    }
   ],
   "source": [
    "tupla_2prueba = (566, \"tuplas\", False)\n",
    "tupla_2prueba"
   ]
  },
  {
   "cell_type": "code",
   "execution_count": 23,
   "metadata": {},
   "outputs": [
    {
     "data": {
      "text/plain": [
       "('hello world', 22, True, 566, 'tuplas', False)"
      ]
     },
     "execution_count": 23,
     "metadata": {},
     "output_type": "execute_result"
    }
   ],
   "source": [
    "tupla_3prueba = (tupla_1prueba + tupla_2prueba)\n",
    "tupla_3prueba"
   ]
  },
  {
   "cell_type": "code",
   "execution_count": 24,
   "metadata": {},
   "outputs": [
    {
     "data": {
      "text/plain": [
       "3"
      ]
     },
     "execution_count": 24,
     "metadata": {},
     "output_type": "execute_result"
    }
   ],
   "source": [
    "# En caso de tener una tupla con elementos repetidos, con el siguiente código se podrán contar los elementos que están más de una vez\n",
    "\n",
    "tupla_4prueba=(0, 7, 8, 0, 4, 0)\n",
    "tupla_4prueba.count(0)\n",
    "\n",
    "#count es uno de los pocos métodos que se le pueden aplicar a las tuplas."
   ]
  },
  {
   "cell_type": "code",
   "execution_count": 25,
   "metadata": {},
   "outputs": [
    {
     "data": {
      "text/plain": [
       "6"
      ]
     },
     "execution_count": 25,
     "metadata": {},
     "output_type": "execute_result"
    }
   ],
   "source": [
    "# Longitud de ua tupla\n",
    "len(tupla_4prueba)"
   ]
  },
  {
   "cell_type": "markdown",
   "metadata": {},
   "source": [
    "🔹 **SET**\n",
    "\n",
    "Son colecciones desordenadas y no permiten que hayan elementos repetidos.\n",
    "\n",
    "📌 Ejemplos"
   ]
  },
  {
   "cell_type": "code",
   "execution_count": 26,
   "metadata": {},
   "outputs": [
    {
     "name": "stdout",
     "output_type": "stream",
     "text": [
      "(1, 3, 5, 7, 9) <class 'tuple'>\n",
      "{1, 3, 5, 7, 9} <class 'set'>\n"
     ]
    }
   ],
   "source": [
    "datos = (1,3,5,7,9)\n",
    "print(datos,type(datos))\n",
    "set_1prueba = set(datos)\n",
    "print(set_1prueba, type(set_1prueba))"
   ]
  },
  {
   "cell_type": "code",
   "execution_count": 27,
   "metadata": {},
   "outputs": [
    {
     "name": "stdout",
     "output_type": "stream",
     "text": [
      "{35, 7, 14, 21, 28}\n"
     ]
    }
   ],
   "source": [
    "datos_2=(7,14,21,28,35)\n",
    "set_2prueba=set(datos_2)\n",
    "print(set_2prueba)"
   ]
  },
  {
   "cell_type": "code",
   "execution_count": 28,
   "metadata": {},
   "outputs": [
    {
     "name": "stdout",
     "output_type": "stream",
     "text": [
      "{7}\n",
      "{1, 3, 35, 5, 7, 9, 14, 21, 28}\n",
      "{1, 3, 5, 9}\n"
     ]
    }
   ],
   "source": [
    "# Operaciones entre conjuntos\n",
    "print(set_2prueba.intersection(set_1prueba))\n",
    "print(set_1prueba.union(set_2prueba))\n",
    "print(set_1prueba.difference(set_2prueba)) #retorna elementos de set_1prueba que no estan en set_2prueba"
   ]
  },
  {
   "cell_type": "markdown",
   "metadata": {},
   "source": [
    "## 🔹DICCIONARIOS\n",
    "\n",
    "Almacenan pares de clave-valor, es decir, para acceder a un valor de un conjunto de datos, será necesario ingresar la llave asociada.  \n",
    "\n",
    "📌 Ejemplos\n"
   ]
  },
  {
   "cell_type": "code",
   "execution_count": 29,
   "metadata": {},
   "outputs": [
    {
     "data": {
      "text/plain": [
       "{'Nombre': 'Valentino', 'Apellido': 'Gonzales', 'Edad': '25', 'Sexo': 'M'}"
      ]
     },
     "execution_count": 29,
     "metadata": {},
     "output_type": "execute_result"
    }
   ],
   "source": [
    "paciente =  {\n",
    "    \"Nombre\": \"Valentino\", \n",
    "    \"Apellido\": \"Gonzales\", \n",
    "    \"Edad\": \"25\", \n",
    "    \"Sexo\": \"M\"}\n",
    "paciente"
   ]
  },
  {
   "cell_type": "code",
   "execution_count": 30,
   "metadata": {},
   "outputs": [
    {
     "data": {
      "text/plain": [
       "{'Nombre': 'Mariana', 'Apellido': 'Aristizabal', 'Edad': '50', 'Sexo': 'F'}"
      ]
     },
     "execution_count": 30,
     "metadata": {},
     "output_type": "execute_result"
    }
   ],
   "source": [
    "paciente_2 = {\n",
    "    \"Nombre\": \"Mariana\",\n",
    "    \"Apellido\": \"Aristizabal\",\n",
    "    \"Edad\": \"50\",\n",
    "    \"Sexo\": \"F\"\n",
    "}\n",
    "paciente_2"
   ]
  },
  {
   "cell_type": "code",
   "execution_count": 31,
   "metadata": {},
   "outputs": [
    {
     "data": {
      "text/plain": [
       "{'nombre': ['Anselmo', 'Aurora'],\n",
       " 'apellidos': ('garcia', 'valencia'),\n",
       " 'edad': [20, 19, 17],\n",
       " 'universidad': 'UNAULA'}"
      ]
     },
     "execution_count": 31,
     "metadata": {},
     "output_type": "execute_result"
    }
   ],
   "source": [
    "matriculados=dict(\n",
    "    nombre=[\"Anselmo\", \"Aurora\"],\n",
    "    apellidos=(\"garcia\", \"valencia\"),\n",
    "    edad=[20,19,17],\n",
    "    universidad=\"UNAULA\"\n",
    ")\n",
    "matriculados"
   ]
  },
  {
   "cell_type": "code",
   "execution_count": 32,
   "metadata": {},
   "outputs": [
    {
     "data": {
      "text/plain": [
       "{'nombre': ['Anselmo', 'Aurora'],\n",
       " 'apellidos': ('garcia', 'valencia'),\n",
       " 'edad': [20, 19, 17]}"
      ]
     },
     "execution_count": 32,
     "metadata": {},
     "output_type": "execute_result"
    }
   ],
   "source": [
    "matriculados.pop(\"universidad\")\n",
    "matriculados"
   ]
  },
  {
   "cell_type": "markdown",
   "metadata": {},
   "source": [
    "## 🎉 ¡Felicidades por completar la primera sesión! 🚀  \n",
    "\n",
    "Ya has dado tus primeros pasos en el increíble mundo de Python. Ahora tienes una base sólida sobre los conceptos esenciales, y esto es solo el comienzo.  \n",
    "\n",
    "Python es una herramienta poderosa que te abrirá muchas puertas, desde la automatización de tareas hasta la inteligencia artificial. 💡✨  \n",
    "\n",
    "Pero lo más importante es que aprendas haciendo. Así que sigue explorando, probando y divirtiéndote con el código.  \n",
    "\n",
    "### 🔥 ¿Listo para el siguiente nivel?  \n",
    "En la próxima sesión, profundizaremos en nuevos conceptos y comenzaremos a desarrollar habilidades prácticas que te llevarán a escribir código más eficiente y profesional.  \n",
    "\n",
    "💪 Nos vemos en la siguiente clase !ÁNIMO!🐍🚀  \n"
   ]
  }
 ],
 "metadata": {
  "kernelspec": {
   "display_name": "Python 3",
   "language": "python",
   "name": "python3"
  },
  "language_info": {
   "codemirror_mode": {
    "name": "ipython",
    "version": 3
   },
   "file_extension": ".py",
   "mimetype": "text/x-python",
   "name": "python",
   "nbconvert_exporter": "python",
   "pygments_lexer": "ipython3",
   "version": "3.13.2"
  }
 },
 "nbformat": 4,
 "nbformat_minor": 2
}
